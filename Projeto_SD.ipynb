{
 "cells": [
  {
   "cell_type": "code",
   "execution_count": 1,
   "metadata": {},
   "outputs": [],
   "source": [
    "import time\n",
    "from threading import Thread\n",
    "from math import floor"
   ]
  },
  {
   "cell_type": "code",
   "execution_count": 2,
   "metadata": {},
   "outputs": [],
   "source": [
    "def separa_doc(arr_data, num):    \n",
    "    global cpf_qtd\n",
    "    global cnpj_qtd\n",
    "    \n",
    "    for i in range(0, len(arr_data)):\n",
    "        if len(arr_data[i]) > 9:\n",
    "            digito_cnpj(arr_data[i])\n",
    "            cnpj_qtd += 1\n",
    "        else:\n",
    "            digito_cpf(arr_data[i])\n",
    "            cpf_qtd += 1\n",
    "\n",
    "    \n",
    "    global arr_ver\n",
    "    arr_ver[num] = True"
   ]
  },
  {
   "cell_type": "code",
   "execution_count": 3,
   "metadata": {},
   "outputs": [],
   "source": [
    "def pega_dados(arq):\n",
    "    with open(arq, 'r') as a:\n",
    "        return [i.strip() for i in a.read().splitlines()]"
   ]
  },
  {
   "cell_type": "code",
   "execution_count": 4,
   "metadata": {},
   "outputs": [],
   "source": [
    "def digito_cpf(cpf):\n",
    "    cpf = cpf\n",
    "    cpf = [int(x) for x in str(cpf)]\n",
    "    v1 = 0\n",
    "    v2 = 0\n",
    "    for i in range(len(cpf)):\n",
    "        v1 = v1 + cpf[i] * (9 - (i % 10))\n",
    "        v2 = v2 + cpf[i] + (9 - ((i + 1) % 10))\n",
    "    \n",
    "    v1 = (v1 % 11) % 10\n",
    "    v2 = v2 + v1 * 9\n",
    "    v2 = (v2 % 11) % 10\n",
    "    \n",
    "    return '{}{}'.format(v1, v2)"
   ]
  },
  {
   "cell_type": "code",
   "execution_count": 5,
   "metadata": {},
   "outputs": [],
   "source": [
    "def digito_cnpj(cnpj):\n",
    "    cnpj = [int(x) for x in str(cnpj)]\n",
    "    v1 = 0\n",
    "    v2 = 0\n",
    "    # Calcula o primeiro dígito de verificação.\n",
    "    v1 = (5 * cnpj[0]) + (4 * cnpj[1]) + (3 * cnpj[2]) + (2 * cnpj[3])\n",
    "    v1 += (9 * cnpj[4]) + (8 * cnpj[5])  + (7 * cnpj[6])  + (6 * cnpj[7])\n",
    "    v1 += (5 * cnpj[8]) + (4 * cnpj[9]) + (3 * cnpj[10]) + (2 * cnpj[11])\n",
    "    v1 = 11 - v1 % 11\n",
    "    \n",
    "    if v1 >= 10:\n",
    "        v1 = 0\n",
    "    \n",
    "    v2 = (6 * cnpj[0]) + (5 * cnpj[1])  + (4 * cnpj[2])  + (3 * cnpj[3])\n",
    "    v2 += (2 * cnpj[4]) + (9 * cnpj[5])  + (8 * cnpj[6])  + (7 * cnpj[7])\n",
    "    v2 += (6 * cnpj[8]) + (5 * cnpj[9]) + (4 * cnpj[10]) + (3 * cnpj[11])\n",
    "    v2 += 2 * v1\n",
    "    v2 = 11 - v2 % 11\n",
    "    \n",
    "    if v2 >=  10:\n",
    "        v2 = 0  \n",
    "\n",
    "    return '{}{}'.format(v1, v2)"
   ]
  },
  {
   "cell_type": "code",
   "execution_count": 6,
   "metadata": {},
   "outputs": [],
   "source": [
    "arr_ver = [0, 0, 0, 0, 0, 0]\n",
    "cpf_qtd = 0\n",
    "cnpj_qtd = 0\n",
    "\n",
    "def main():\n",
    "    global arr_ver\n",
    "    tempo_inicial = time.time()\n",
    "    \n",
    "    arr_df = pega_dados('BASE.txt')\n",
    "    n = 6\n",
    "    saida = floor(len(arr_df)/n)\n",
    "    part = arr_df[0:saida]\n",
    "\n",
    "    threads = []\n",
    "    for i in range(0, n):\n",
    "        part = arr_df[saida*i:(i + 1)*saida]\n",
    "        threads.append(Thread(target=separa_doc, args=(part, i,), daemon=True))\n",
    "    \n",
    "    for i in range(0, n):\n",
    "        threads[i].start()\n",
    "        arr_ver[i] = False\n",
    "    \n",
    "    \n",
    "    while(True):\n",
    "        flag = True\n",
    "        for i in range(0, n):\n",
    "            if arr_ver[i] == False:\n",
    "                flag = False\n",
    "            else:\n",
    "                threads[i].join()\n",
    "        \n",
    "        if flag:\n",
    "            break\n",
    "    \n",
    "    print('O total de documentos avaliados foi de', cpf_qtd + cnpj_qtd, 'documentos')\n",
    "    print('Levando', (time.time() - tempo_inicial) * 1000, 'milisegundos')\n",
    "    \n",
    "    "
   ]
  },
  {
   "cell_type": "code",
   "execution_count": 7,
   "metadata": {},
   "outputs": [
    {
     "name": "stdout",
     "output_type": "stream",
     "text": [
      "O total de documentos avaliados foi de 9872152 documentos\n",
      "Levando 52273.48852157593 milisegundos\n"
     ]
    }
   ],
   "source": [
    "if __name__ == \"__main__\":\n",
    "    main()"
   ]
  },
  {
   "cell_type": "code",
   "execution_count": null,
   "metadata": {},
   "outputs": [],
   "source": []
  }
 ],
 "metadata": {
  "kernelspec": {
   "display_name": "Python 3",
   "language": "python",
   "name": "python3"
  },
  "language_info": {
   "codemirror_mode": {
    "name": "ipython",
    "version": 3
   },
   "file_extension": ".py",
   "mimetype": "text/x-python",
   "name": "python",
   "nbconvert_exporter": "python",
   "pygments_lexer": "ipython3",
   "version": "3.8.3"
  }
 },
 "nbformat": 4,
 "nbformat_minor": 4
}
